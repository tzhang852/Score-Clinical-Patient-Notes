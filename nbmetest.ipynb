{
 "cells": [
  {
   "cell_type": "code",
   "execution_count": 1,
   "id": "b80147f1",
   "metadata": {
    "_cell_guid": "b1076dfc-b9ad-4769-8c92-a6c4dae69d19",
    "_uuid": "8f2839f25d086af736a60e9eeb907d3b93b6e0e5",
    "execution": {
     "iopub.execute_input": "2022-03-28T05:33:03.344657Z",
     "iopub.status.busy": "2022-03-28T05:33:03.343441Z",
     "iopub.status.idle": "2022-03-28T05:33:03.357173Z",
     "shell.execute_reply": "2022-03-28T05:33:03.357744Z"
    },
    "papermill": {
     "duration": 0.022289,
     "end_time": "2022-03-28T05:33:03.358103",
     "exception": false,
     "start_time": "2022-03-28T05:33:03.335814",
     "status": "completed"
    },
    "tags": []
   },
   "outputs": [
    {
     "name": "stdout",
     "output_type": "stream",
     "text": [
      "/kaggle/input/nbme-score-clinical-patient-notes/sample_submission.csv\n",
      "/kaggle/input/nbme-score-clinical-patient-notes/patient_notes.csv\n",
      "/kaggle/input/nbme-score-clinical-patient-notes/features.csv\n",
      "/kaggle/input/nbme-score-clinical-patient-notes/train.csv\n",
      "/kaggle/input/nbme-score-clinical-patient-notes/test.csv\n"
     ]
    }
   ],
   "source": [
    "# This Python 3 environment comes with many helpful analytics libraries installed\n",
    "# It is defined by the kaggle/python Docker image: https://github.com/kaggle/docker-python\n",
    "# For example, here's several helpful packages to load\n",
    "\n",
    "import numpy as np  # linear algebra\n",
    "import pandas as pd  # data processing, CSV file I/O (e.g. pd.read_csv)\n",
    "\n",
    "# Input data files are available in the read-only \"../input/\" directory\n",
    "# For example, running this (by clicking run or pressing Shift+Enter) will list all files under the input directory\n",
    "\n",
    "import os\n",
    "\n",
    "for dirname, _, filenames in os.walk('/kaggle/input'):\n",
    "    for filename in filenames:\n",
    "        print(os.path.join(dirname, filename))\n",
    "\n",
    "# You can write up to 20GB to the current directory (/kaggle/working/) that gets preserved as output when you create a version using \"Save & Run All\" \n",
    "# You can also write temporary files to /kaggle/temp/, but they won't be saved outside of the current session\n",
    "\n",
    "#Test update\n",
    "# hi it's me luke i'm also doing a test update, but like a second time though <3"
   ]
  },
  {
   "cell_type": "code",
   "execution_count": 32,
   "outputs": [
    {
     "name": "stdout",
     "output_type": "stream",
     "text": [
      "              id  case_num  pn_num  feature_num                                annotation                                       feature_text                                         pn_history\n",
      "0      00016_000         0      16            0          ['dad with recent heart attcak']  Family-history-of-MI-OR-Family-history-of-myoc...  HPI: 17yo M presents with palpitations. Patien...\n",
      "1      00016_001         0      16            1             ['mom with \"thyroid disease']                 Family-history-of-thyroid-disorder  HPI: 17yo M presents with palpitations. Patien...\n",
      "2      00016_002         0      16            2                        ['chest pressure']                                     Chest-pressure  HPI: 17yo M presents with palpitations. Patien...\n",
      "3      00016_003         0      16            3      ['intermittent episodes', 'episode']                              Intermittent-symptoms  HPI: 17yo M presents with palpitations. Patien...\n",
      "4      00016_004         0      16            4  ['felt as if he were going to pass out']                                        Lightheaded  HPI: 17yo M presents with palpitations. Patien...\n",
      "...          ...       ...     ...          ...                                       ...                                                ...                                                ...\n",
      "14295  95333_912         9   95333          912                                        []                        Family-history-of-migraines  Stephanie madden is a 20 year old woman compla...\n",
      "14296  95333_913         9   95333          913                                        []                                             Female  Stephanie madden is a 20 year old woman compla...\n",
      "14297  95333_914         9   95333          914                              ['photobia']                                        Photophobia  Stephanie madden is a 20 year old woman compla...\n",
      "14298  95333_915         9   95333          915                      ['no sick contacts']                          No-known-illness-contacts  Stephanie madden is a 20 year old woman compla...\n",
      "14299  95333_916         9   95333          916                      ['Subjective fever']                                   Subjective-fever  Stephanie madden is a 20 year old woman compla...\n",
      "\n",
      "[14300 rows x 7 columns]\n"
     ]
    }
   ],
   "source": [
    "import pandas as pd\n",
    "import pandas as np\n",
    "import re\n",
    "from transformers import pipeline\n",
    "from transformers import AutoModelForSequenceClassification\n",
    "from transformers import TrainingArguments\n",
    "from sklearn.metrics import accuracy_score\n",
    "from sklearn.model_selection import train_test_split\n",
    "\n",
    "pd.set_option('display.max_rows', 500)\n",
    "pd.set_option('display.max_columns', 500)\n",
    "pd.set_option('display.width', 1000)\n",
    "\n",
    "train_df = pd.read_csv(\"nbme-score-clinical-patient-notes/train.csv\")\n",
    "feature_df = pd.read_csv(\"nbme-score-clinical-patient-notes/features.csv\")\n",
    "notes_df = pd.read_csv(\"nbme-score-clinical-patient-notes/patient_notes.csv\")\n",
    "\n",
    "train_feature = pd.merge(train_df, feature_df, on=['case_num', 'feature_num'], how='left')\n",
    "train_feature_notes = pd.merge(train_feature, notes_df, on=['pn_num', 'case_num'], how='left')\n",
    "\n",
    "location = train_feature_notes.location\n",
    "train_feature_notes.drop(columns=['location'], inplace=True)\n",
    "\n",
    "print(train_feature_notes)"
   ],
   "metadata": {
    "collapsed": false,
    "pycharm": {
     "name": "#%%\n"
    }
   }
  },
  {
   "cell_type": "code",
   "execution_count": 33,
   "outputs": [],
   "source": [
    "X_train, X_test, y_train, y_test = train_test_split(train_feature_notes, location, test_size=0.33, random_state=42)"
   ],
   "metadata": {
    "collapsed": false,
    "pycharm": {
     "name": "#%%\n"
    }
   }
  },
  {
   "cell_type": "code",
   "execution_count": null,
   "outputs": [],
   "source": [
    "model = AutoModelForSequenceClassification.from_pretrained(\"bert-base-cased\",\n",
    "                                                           num_labels=len(pd.unique(feature_df['feature_num'])))\n",
    "\n",
    "def compute_metrics(eval_pred):\n",
    "    logits, labels = eval_pred\n",
    "    predictions = np.argmax(logits, axis=-1)\n",
    "    return metric.compute(predictions=predictions, references=labels)\n",
    "\n",
    "training_args = TrainingArguments(output_dir=\"test_trainer\", evaluation_strategy=\"epoch\")\n",
    "\n",
    "trainer = Trainer(model=model,\n",
    "                  args=training_args,\n",
    "                  train_dataset=X_train,\n",
    "                  eval_dataset=X_test)\n",
    "ner_pipeline = pipeline(\"ner\", grouped_entities=True, model=model)\n",
    "features = ner_pipeline(([\"I ate a bottle of Adderall whole. Everyone clapped.\"]))"
   ],
   "metadata": {
    "collapsed": false,
    "pycharm": {
     "name": "#%%\n",
     "is_executing": true
    }
   }
  },
  {
   "cell_type": "code",
   "execution_count": 16,
   "outputs": [
    {
     "data": {
      "text/plain": "[[{'entity_group': 'MISC',\n   'score': 0.7921942,\n   'word': 'Adderall',\n   'start': 18,\n   'end': 26}]]"
     },
     "execution_count": 16,
     "metadata": {},
     "output_type": "execute_result"
    }
   ],
   "source": [
    "features"
   ],
   "metadata": {
    "collapsed": false,
    "pycharm": {
     "name": "#%%\n"
    }
   }
  }
 ],
 "metadata": {
  "kernelspec": {
   "display_name": "Python 3",
   "language": "python",
   "name": "python3"
  },
  "language_info": {
   "codemirror_mode": {
    "name": "ipython",
    "version": 3
   },
   "file_extension": ".py",
   "mimetype": "text/x-python",
   "name": "python",
   "nbconvert_exporter": "python",
   "pygments_lexer": "ipython3",
   "version": "3.7.12"
  },
  "papermill": {
   "default_parameters": {},
   "duration": 11.229702,
   "end_time": "2022-03-28T05:33:04.274398",
   "environment_variables": {},
   "exception": null,
   "input_path": "__notebook__.ipynb",
   "output_path": "__notebook__.ipynb",
   "parameters": {},
   "start_time": "2022-03-28T05:32:53.044696",
   "version": "2.3.3"
  }
 },
 "nbformat": 4,
 "nbformat_minor": 5
}